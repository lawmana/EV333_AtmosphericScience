{
 "cells": [
  {
   "cell_type": "markdown",
   "id": "837de49d-4180-4c1a-b696-93e2b9b99eac",
   "metadata": {},
   "source": [
    "# EV333: Introduction to Python\n",
    "\n",
    "**Learning Objectives:**\n",
    "In this notebook you will use Python to:\n",
    "- Perform basic calculations\n",
    "- Create variables\n",
    "- Explore Python data types\n",
    "- Create and subset lists\n",
    "- Use Python functions and methods\n",
    "- Use the [NumPy](https://numpy.org/doc/stable/user/absolute_beginners.html#) (Numerical Python) package\n",
    "\n",
    "## Part I: Perform basic calculations\n",
    "Let's start by performing some basic calculations (addition, subtraction, multiplication, and division) using Python.\n",
    "\n",
    "**Note:** The `#` at the start of a line indicates a comment. Comments are lines in the code that are ignored. Comments can be used to explain Python code, make the code more readable, and prevent a line from executing when testing code."
   ]
  },
  {
   "cell_type": "markdown",
   "id": "e21df7dd-217c-47a2-9aef-7095b001ec8c",
   "metadata": {},
   "source": [
    "If you have multiple lines of code in a row, only the result for the last line is displayed below the cell. Use `print()` to display the output for all calculations.\n",
    "\n",
    "**In the cell below, print the results for the following calculations:**\n",
    "- The sum of 9 and 12.\n",
    "- The result of subtracting 325 from 350.\n",
    "- The product of 5 and 7.\n",
    "- The quotient of 105 divided by 5.\n",
    "- Experiment with your own calculations"
   ]
  },
  {
   "cell_type": "code",
   "execution_count": null,
   "id": "173848fb-368b-4632-9ac0-6d080a9f5e0b",
   "metadata": {},
   "outputs": [],
   "source": [
    "# Example division, do not modify\n",
    "print(200/10)\n",
    "\n",
    "# addition: print the sum of 9 and 12\n",
    "print(9+12)\n",
    "\n",
    "# subtraction: print the result of subtracting 325 from 350\n",
    "print(350-325)\n",
    "\n",
    "# multiplication: print the product of 5 and 7\n",
    "print(5*7)\n",
    "\n",
    "# division: print the quotient of 105 divided by 5\n",
    "print(105/5)\n",
    "\n",
    "# experiment with your own calculations \n",
    "#...add your code here..."
   ]
  },
  {
   "cell_type": "markdown",
   "id": "6c83cf7a-c935-4bde-b2d2-5317ff6652a6",
   "metadata": {},
   "source": [
    "## Part II: Use other operators\n",
    "\n",
    "The Python `**` operator calculates the power of a number. For example, (5$^2$), or 5 to the power of 2 is equal to 25. `5*5` and `5 ** 2` will give equivalent results.\n",
    "\n",
    "**Use the `**` operator to calculate:**\n",
    "- 1 to the power of 2 ($1^2$)\n",
    "- 2 to the power of 2 ($2^2$)\n",
    "- 2 to the power of 3 ($2^3$)\n",
    "- 10 to the power of 4 ($10^4$)\n",
    "- 12.75 to the power of 4 ($12.75^4$)\n",
    "- The fourth root of 300$^*$ (equivalent to 300$^.25$)\n",
    "\n",
    "*To calculate the fourth root, you can use the form y$^x$ where x = 0.25.*\n",
    "\n",
    "Use `print()` to display the output for all calculations.\n",
    "\n"
   ]
  },
  {
   "cell_type": "code",
   "execution_count": null,
   "id": "87f4b40f-031c-482b-a340-3cb2388780ad",
   "metadata": {},
   "outputs": [],
   "source": [
    "# calculate 1 to the power of 2\n",
    "print(1 ** 2)\n",
    "\n",
    "# calculate 2 to the power of 2 \n",
    "print(2 ** 2)\n",
    "\n",
    "# calculate 2 to the power of 3\n",
    "print(2 ** 3)\n",
    "\n",
    "# calculate 10 to the power of 4\n",
    "print(10 ** 4)\n",
    "\n",
    "# calculate 12.75 to the power of 4\n",
    "print(12.75 ** 4)\n",
    "\n",
    "# calculate the fourth root of 300\n",
    "print(300 ** 0.25)"
   ]
  },
  {
   "cell_type": "markdown",
   "id": "716363c2-7a4c-40d9-8b37-dc4df35eac92",
   "metadata": {},
   "source": [
    "Python's math module in the standard library contains other useful functions, such as `remainder()`, `factorial()`, and `sqrt()`. To use these functions import the math module using `import math`. Then you can use `math.sqrt()` to calculate square roots.\n",
    "\n",
    "**Use math.sqrt() to calculate:**\n",
    "- The square root of 25\n",
    "- The square root of 49\n",
    "- The square root of 225\n",
    "\n",
    "Print the output."
   ]
  },
  {
   "cell_type": "code",
   "execution_count": null,
   "id": "a170c70f-c689-4282-a899-f0c2e0c5b3ad",
   "metadata": {},
   "outputs": [],
   "source": [
    "import math\n",
    "\n",
    "# calculate the square root of 25\n",
    "print(math.sqrt(25))\n",
    "\n",
    "# calculate the square root of 49\n",
    "print(math.sqrt(49))\n",
    "\n",
    "# calculate the square root of \n",
    "print(math.sqrt(225))"
   ]
  },
  {
   "cell_type": "markdown",
   "id": "5edfc24d-7312-480b-9fd6-eb3905dffa1b",
   "metadata": {},
   "source": [
    "What happens if you try to take the square root of a negative number? Try this in the cell below."
   ]
  },
  {
   "cell_type": "code",
   "execution_count": null,
   "id": "da5c1913-c081-4102-907f-1211b64f9788",
   "metadata": {},
   "outputs": [],
   "source": [
    "# try calculating the square root of a negative number\n"
   ]
  },
  {
   "cell_type": "markdown",
   "id": "837014db-1ec8-4ce8-9e03-99ce52ff3602",
   "metadata": {},
   "source": [
    "## Part III: Define variables\n",
    "\n",
    "Variables store data values and help make code reproducible. Define variables using specific, case-sensitive names. A variable is created when you assign a value to it. The values can be strings of text, numbers, or True/False (boolean values).\n",
    "\n",
    "\n",
    "**Define the following variables:**\n",
    "- A variable called `your_name` that is a string of text with your name in single or double quotes `\" \"`\n",
    "- A variable called `your_age` with your age as a number\n",
    "- A variable called `is_correct` with a value of `True`\n",
    "\n",
    "Print the output for each variable."
   ]
  },
  {
   "cell_type": "code",
   "execution_count": null,
   "id": "ef975189-af4b-4fb9-92d9-dd9f4b419804",
   "metadata": {},
   "outputs": [],
   "source": [
    "# your_name\n",
    "your_name = \"TestName\"\n",
    "print(your_name)\n",
    "\n",
    "# your_age\n",
    "#...uncomment and add your code here...\n",
    "\n",
    "# is_correct\n",
    "#...uncomment and add your code here..."
   ]
  },
  {
   "cell_type": "markdown",
   "id": "a59b5337-2444-4897-a878-7c067ec3b4a7",
   "metadata": {},
   "source": [
    "### Use variables and solve a simple equation:\n",
    "\n",
    "We can define variables and use them to solve equations. From the Pythagorean theorem, $a^2$ + $b^2$ = $c^2$, where *a* and *b* are the sides of a right triangle and *c* is the hypotenuse. Variables *a* and *b* are defined below. Write an equation to solve for c. Use the `math.sqrt()` method to calculate the square root."
   ]
  },
  {
   "cell_type": "code",
   "execution_count": null,
   "id": "b17a4a06-5fc9-45fb-91bb-38604298f783",
   "metadata": {},
   "outputs": [],
   "source": [
    "# variables a and b, do not modify\n",
    "a = 3\n",
    "b = 4\n",
    "\n",
    "# uncomment the line below and write an equation to solve for c\n",
    "# c = math.sqrt(...add your code here...)\n",
    "\n",
    "# print the result, do not modify\n",
    "print('The hypotenuse is length', c)"
   ]
  },
  {
   "cell_type": "markdown",
   "id": "6127919f-4116-4685-b65f-1c8ef19648d1",
   "metadata": {},
   "source": [
    "## Part IV: Variables and types\n",
    "\n",
    "There are four common data types:\n",
    "- `int`, or integer: a number without a fractional part.\n",
    "- `float`, or floating point: a number that has both an integer and fractional part, separated by a point. 1.1, is an example of a float.\n",
    "- `str`, or string: a type to represent text. You can use single or double quotes to build a string.\n",
    "- `bool`, or boolean: a type to represent logical values. It can only be True or False (the capitalization is important!).\n",
    "\n",
    "To find out the type of a value or a variable that refers to that value, use the Python `type()` function. Suppose you've defined a variable *a*, but you forgot the type of this variable. To determine the type of a, simply execute: `type(a)`.\n",
    "\n",
    "**Print the types of the variables created in Part III (your_name, your_age, and is_correct):**"
   ]
  },
  {
   "cell_type": "code",
   "execution_count": null,
   "id": "ec59d8b1-3c0f-435b-a278-d61870af2008",
   "metadata": {},
   "outputs": [],
   "source": [
    "# print the type of your_name\n",
    "print(type(your_name))\n",
    "\n",
    "# print the type of your_age\n",
    "#...uncomment and add your code here...\n",
    "\n",
    "# print the type of is_correct\n",
    "#...uncomment and add your code here..."
   ]
  },
  {
   "cell_type": "markdown",
   "id": "f7c117bc-398e-4f4a-bcb1-ad915bb33aa8",
   "metadata": {},
   "source": [
    "**Practice Problem:**\n"
   ]
  },
  {
   "cell_type": "markdown",
   "id": "2d077c7b-f843-4c8c-a76a-e5a94377596e",
   "metadata": {},
   "source": [
    "**Practice problem 1:**\n",
    "- Create a variable `savings` with the value of 100\n",
    "- Check out this variable using `print()`"
   ]
  },
  {
   "cell_type": "code",
   "execution_count": null,
   "id": "b820dfac-74f9-4b80-b859-61e4423da794",
   "metadata": {},
   "outputs": [],
   "source": [
    "# create a variable savings\n",
    "savings = 100\n",
    "\n",
    "# print out savings\n",
    "print(savings)"
   ]
  },
  {
   "cell_type": "markdown",
   "id": "527d835c-d414-4e9d-8ca3-7269c3601977",
   "metadata": {},
   "source": [
    "- Create a variable monthly_savings, equal to 10 and num_months, equal to 4.\n",
    "- Multiply `monthly_savings` by `num_months` and save it to a variable called `new_savings`.\n",
    "- Add new_savings to savings, saving the sum as a variable called `total_savings`.\n",
    "- Print the value of total_savings."
   ]
  },
  {
   "cell_type": "code",
   "execution_count": null,
   "id": "a9d83806-9f08-4a45-89e2-3e63c5619d4b",
   "metadata": {},
   "outputs": [],
   "source": [
    "# Create the variables monthly_savings and num_months\n",
    "monthly_savings = 10\n",
    "num_months = 4\n",
    "\n",
    "# Multiply monthly_savings and num_months\n",
    "new_savings = monthly_savings * num_months\n",
    "\n",
    "# Add new_savings to your savings\n",
    "total_savings = savings + new_savings\n",
    "\n",
    "# Print total_savings\n",
    "print(total_savings)"
   ]
  },
  {
   "cell_type": "markdown",
   "id": "7609f973-5b2d-4080-8b34-b65e8ac9fd7b",
   "metadata": {},
   "source": [
    "In the previous exercise, you worked with the integer Python data type:\n",
    "\n",
    "`int`, or integer: a number without a fractional part. savings, with the value 100, is an example of an integer.\n",
    "Next to numerical data types, there are three other very common data types:\n",
    "\n",
    "- `float`, or floating point: a number that has both an integer and fractional part, separated by a point. 1.1, is an example of a float.\n",
    "- `str`, or string: a type to represent text. You can use single or double quotes to build a string.\n",
    "- `bool`, or boolean: a type to represent logical values. It can only be True (1) or False (0). The capitalization is important!"
   ]
  },
  {
   "cell_type": "markdown",
   "id": "4df720bf-1f16-4b2a-a172-8827606ac23c",
   "metadata": {},
   "source": [
    "**Practice problem 2**\n",
    "- Define a variable with type float called  `frac`, with the value 0.367.\n",
    "- Define a variable with type string, called `feelings`, with the value \"Python is fun!\".\n",
    "- Define a variable with type boolean, `is_good`, with the value True.\n",
    "\n",
    "**Guess the type**\n",
    "To find out the type of a value or a variable that refers to that value, you can use the type() function. Suppose you've defined a variable a, but you forgot the type of this variable. To determine the type of variable `a`, use:\n",
    "\n",
    "`type(a)`"
   ]
  },
  {
   "cell_type": "code",
   "execution_count": null,
   "id": "5bbb9888-eb0f-4213-ada6-a55e1bb50ede",
   "metadata": {},
   "outputs": [],
   "source": [
    "# define a variable called frac with a value of 0.367\n",
    "#...add your code here...\n",
    "\n",
    "# define a variable called feelings that is a string that says \"Python is fun!\"\n",
    "#...add your code here...\n",
    "\n",
    "# define a variable is_good and set it to True\n",
    "#...add your code here...\n",
    "\n",
    "# check the type of each variable using the type() function\n",
    "print(type(frac))\n",
    "print(type(feelings))\n",
    "print(type(is_good))"
   ]
  },
  {
   "cell_type": "markdown",
   "id": "ccea1709-2bfb-49c6-9c93-acce054aebd2",
   "metadata": {},
   "source": [
    "### Python Lists\n",
    "\n",
    "Your can store information in a list. Lists can be built using square brackets. The lists can be named (collection of values) of any type."
   ]
  },
  {
   "cell_type": "code",
   "execution_count": null,
   "id": "37133fcf-4c9f-4d3e-924b-9c6d65046ad4",
   "metadata": {},
   "outputs": [],
   "source": [
    "# define a variable called bday_month and list the birthday month of everyone at your table as an integer (1 = January, 12 = December)\n",
    "bday_month = [3, 5, 12, 8]"
   ]
  },
  {
   "cell_type": "code",
   "execution_count": null,
   "id": "a205feaf-1e9d-4c89-bd77-bed2a87be954",
   "metadata": {},
   "outputs": [],
   "source": [
    "# now create a variable called age that includes the first name of each person in your group as strings with their birthday month as integers\n",
    "age = ['student1', 3, 'student2', 5, 'student3', 12, 'student4', 8]\n",
    "age"
   ]
  },
  {
   "cell_type": "code",
   "execution_count": null,
   "id": "fcf2eb20-1971-4ca7-9f6f-2e84e6a81544",
   "metadata": {},
   "outputs": [],
   "source": [
    "# what is the data type for age and age2? Use print() to display the result.\n",
    "print(type(age))"
   ]
  },
  {
   "cell_type": "markdown",
   "id": "2bf81e28-7089-4a3c-bbbe-f0862fa63385",
   "metadata": {},
   "source": [
    "# Selecting items in a list Indexing\n",
    "\n",
    "Python indexing starts at 0 (zero indexing). To extract the subset of a list use: lisName[startIndex:endIndex].\n",
    "The start index will be included, while the end index is not. Some examples are below. \n",
    "\n",
    "Experiment with your own list subsetting."
   ]
  },
  {
   "cell_type": "code",
   "execution_count": null,
   "id": "ab8cb10a-d7be-4ccd-bee7-6c290771d6cf",
   "metadata": {},
   "outputs": [],
   "source": [
    "# my_list, do not modify\n",
    "my_list = [10, 23, 4, 7, 12, 18, 1, 14, 19]\n",
    "\n",
    "# use indexing to print the first (0th) element\n",
    "print(my_list[0])\n",
    "\n",
    "# print the last element\n",
    "print(my_list[-1])\n",
    "\n",
    "# print the fourth element\n",
    "print(my_list[3])\n",
    "\n",
    "# print the second through fifth elements\n",
    "print(my_list[1:6])\n",
    "\n",
    "# add your own list subsetting here"
   ]
  },
  {
   "cell_type": "markdown",
   "id": "e5d15ae5-47b6-45ee-ad98-f240d06ddb81",
   "metadata": {},
   "source": [
    "# Python Packages\n",
    "Packages are a directory of python scripts. For example, we will use the NumPy and Matplotlib packages in this class. To use a package you need to import it:"
   ]
  },
  {
   "cell_type": "code",
   "execution_count": null,
   "id": "8e155834-1d29-4c5c-914b-612986e74841",
   "metadata": {},
   "outputs": [],
   "source": [
    "# import NumPy as np\n",
    "import numpy as np\n",
    "\n",
    "# import only the array package\n",
    "from numpy import array"
   ]
  },
  {
   "cell_type": "markdown",
   "id": "6ae85e03-41cb-49ac-acd1-087cefffb0ae",
   "metadata": {},
   "source": [
    "# NumPy (Numeric Python)\n",
    "Need to perform operations across a collection of values? NumPy array is an alternative to Python list that can perform calculations over entire arrays. \n",
    "\n",
    "To use NumPy: `import numpy as np`"
   ]
  },
  {
   "cell_type": "code",
   "execution_count": null,
   "id": "bd9c0d6b-b75c-4eed-923b-5c9b61dc2dd8",
   "metadata": {},
   "outputs": [],
   "source": [
    "import numpy as np\n",
    "# create numpy array\n",
    "array1 = np.array([1, 2, 3, 4, 5, 6])\n",
    "array2 = np.array([1, 2, 3, 4, 5, 6])\n",
    "\n",
    "# perform a calculation\n",
    "solution = array1 * array2\n",
    "print(solution)"
   ]
  },
  {
   "cell_type": "code",
   "execution_count": null,
   "id": "236122a2-2e76-457f-b2b1-68ad848aab47",
   "metadata": {},
   "outputs": [],
   "source": [
    "array1[1]\n",
    "array1[array1 > 3]"
   ]
  }
 ],
 "metadata": {
  "kernelspec": {
   "display_name": "Python 3 (ipykernel)",
   "language": "python",
   "name": "python3"
  },
  "language_info": {
   "codemirror_mode": {
    "name": "ipython",
    "version": 3
   },
   "file_extension": ".py",
   "mimetype": "text/x-python",
   "name": "python",
   "nbconvert_exporter": "python",
   "pygments_lexer": "ipython3",
   "version": "3.11.5"
  }
 },
 "nbformat": 4,
 "nbformat_minor": 5
}
