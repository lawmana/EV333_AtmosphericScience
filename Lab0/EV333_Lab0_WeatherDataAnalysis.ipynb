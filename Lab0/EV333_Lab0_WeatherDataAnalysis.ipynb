{
 "cells": [
  {
   "cell_type": "markdown",
   "id": "b4a9041d-4f67-45a4-9015-26a676421854",
   "metadata": {
    "deletable": false,
    "editable": false
   },
   "source": [
    "# Lab 0: Colorado Springs Weather & Climate Data Analysis & Visualization\n",
    "\n",
    "This lab explores weather data from April 1948 through December 2022 collected at the Colorado Springs Municipal Airport (station 051778, 38.80949$^\\circ$N, 104.6887$^\\circ$W). Weather data from this station, at an elevation of 6,182 ft, is one of the longest observational records in the area. The data was accessed from the [Colorado Climate Center](https://climate.colostate.edu/data_access_new.html).\n",
    "\n",
    "First you will analyze monthly and seasonal variations in minimum and maximum temperature, prcipitation, and snowfall. Then you will  calculate annual averages and explore long-term trends. All code and figures will be generated in this Jupyter Notebook using the Python programming language. Use comments (the `#` symbol) to organize your code and make it more readable.\n",
    "\n",
    "Learning to code requires patience and practice! This notebook includes detailed instructions and sample code to help guide you through the process. Please systematically walk through the sample code and make sure you understand each line before proceeding.\n",
    "\n",
    "**Required data:**\n",
    "*CO_Springs_Airport_Monthly.csv* (Download from GitHub)\n",
    "\n",
    "**To submit via Canvas:**\n",
    "\n",
    "To foster a collaborative learning environment, you are encouraged to work with a partner, but each person must write and submit their own code, and answer all interpretation and synthesis questions in their own words. All students must complete all problems - it is against the honor code to divide the problems up among different individuals. \n",
    "\n",
    "- Prior to submitting your lab, please name your Notebook file using the following syntax: *LastName_FirstName_EV333_Lab0.ipynb.*\n",
    "- Please run the notebook from the beginning to check it generates all figures and runs without any errors. Then upload your notebook to Canvas.\n",
    "\n",
    "**Learning outcomes:** \n",
    "In this lab you will learn and practice the following skills:\n",
    "\n",
    "- Interpreting local atmospheric observations\n",
    "- Calculating the climatology for Colorado Springs\n",
    "- Time series analysis\n",
    "- Statistical analysis\n",
    "- Manipulating data in Pandas DataFrames\n",
    "- Data visualization with Matplotlib\n",
    "- Describing the factors that influence weather and climate in Colorado Spring \n",
    "\n",
    "---\n",
    "\n",
    "## Pre-process the data\n",
    "\n",
    "The cells below import the necessary Python packages and load `CO_Springs_Airport_Monthly.csv` as a Pandas **DataFrame** called `df`. The DataFrame contains monthly averages of minimim and maximum temperature (in $^\\circ$F), precipitation (in inches), and snowfall (in inches) from 1948-2022. Each column of data is a Series.\n",
    "\n",
    "The goal of this lab is to practice manipulating and plotting the data, so the pre-processing steps are completed for you. Carefully go through each line of code to make sure you understand it. The processed `df` DataFrame is displayed. "
   ]
  },
  {
   "cell_type": "code",
   "execution_count": 1,
   "id": "d78c095a-27fc-4827-9702-0b2aa9e4a9af",
   "metadata": {
    "deletable": false,
    "editable": false
   },
   "outputs": [],
   "source": [
    "# import Python packages\n",
    "import matplotlib.pyplot as plt\n",
    "import pandas as pd\n",
    "import numpy as np\n",
    "from datetime import datetime\n",
    "import os\n",
    "\n",
    "# disable warnings\n",
    "pd.options.mode.chained_assignment = None"
   ]
  },
  {
   "cell_type": "markdown",
   "id": "fb4b4426-a0a2-45d2-8a27-2dab8a963376",
   "metadata": {
    "deletable": false,
    "editable": false
   },
   "source": [
    "**Load the Colorado Springs weather and climate data:**\n",
    "\n",
    "**<span style='color:Red'> Insert a cell below using the `+` icon.  </span> Add the following code:**\n",
    "\n",
    "```\n",
    "# file path and name, update with the path for your local computer\n",
    "cwd = os.getcwd()\n",
    "fileName = cwd+'/CO_Springs_Airport_Monthly.csv'\n",
    "```\n",
    "\n",
    "The `os.getcwd()` method from the Python os module will get the current working directory. You will need to change `cwd+'/CO_Springs_Airport_Monthly.csv` if you are storing the csv file in another directory on your computer. If this is the case, put the full path for the csv file in single quotes: `fileName = ''`."
   ]
  },
  {
   "cell_type": "code",
   "execution_count": 3,
   "id": "6bb66bae-91bc-4428-9a3a-94f7f4c07bc1",
   "metadata": {
    "deletable": false,
    "editable": false
   },
   "outputs": [
    {
     "name": "stdout",
     "output_type": "stream",
     "text": [
      "  Year_Month maximumT minimumT precipitation snowfall\n",
      "0      Units     degF     degF            in       in\n"
     ]
    }
   ],
   "source": [
    "# load data as a Pandas DataFrame (df)\n",
    "df = pd.read_csv(fileName)\n",
    "\n",
    "# units for each column of data\n",
    "df_units = df[:1]\n",
    "print(df_units)\n",
    "\n",
    "# remove units from the DataFrame\n",
    "df = df[1:]"
   ]
  },
  {
   "cell_type": "code",
   "execution_count": 4,
   "id": "d88d2221-8d2f-4c5f-8c52-3ca59573e824",
   "metadata": {
    "deletable": false,
    "editable": false
   },
   "outputs": [
    {
     "name": "stdout",
     "output_type": "stream",
     "text": [
      "Year_Month        object\n",
      "maximumT         float16\n",
      "minimumT         float16\n",
      "precipitation    float16\n",
      "snowfall         float16\n",
      "dtype: object\n"
     ]
    },
    {
     "data": {
      "text/html": [
       "<div>\n",
       "<style scoped>\n",
       "    .dataframe tbody tr th:only-of-type {\n",
       "        vertical-align: middle;\n",
       "    }\n",
       "\n",
       "    .dataframe tbody tr th {\n",
       "        vertical-align: top;\n",
       "    }\n",
       "\n",
       "    .dataframe thead th {\n",
       "        text-align: right;\n",
       "    }\n",
       "</style>\n",
       "<table border=\"1\" class=\"dataframe\">\n",
       "  <thead>\n",
       "    <tr style=\"text-align: right;\">\n",
       "      <th></th>\n",
       "      <th>Year_Month</th>\n",
       "      <th>maximumT</th>\n",
       "      <th>minimumT</th>\n",
       "      <th>precipitation</th>\n",
       "      <th>snowfall</th>\n",
       "    </tr>\n",
       "  </thead>\n",
       "  <tbody>\n",
       "    <tr>\n",
       "      <th>1</th>\n",
       "      <td>1948-01-01</td>\n",
       "      <td>NaN</td>\n",
       "      <td>NaN</td>\n",
       "      <td>NaN</td>\n",
       "      <td>NaN</td>\n",
       "    </tr>\n",
       "    <tr>\n",
       "      <th>2</th>\n",
       "      <td>1948-02-01</td>\n",
       "      <td>NaN</td>\n",
       "      <td>NaN</td>\n",
       "      <td>NaN</td>\n",
       "      <td>NaN</td>\n",
       "    </tr>\n",
       "    <tr>\n",
       "      <th>3</th>\n",
       "      <td>1948-03-01</td>\n",
       "      <td>NaN</td>\n",
       "      <td>NaN</td>\n",
       "      <td>NaN</td>\n",
       "      <td>NaN</td>\n",
       "    </tr>\n",
       "    <tr>\n",
       "      <th>4</th>\n",
       "      <td>1948-04-01</td>\n",
       "      <td>63.59375</td>\n",
       "      <td>35.687500</td>\n",
       "      <td>1.070312</td>\n",
       "      <td>4.000000</td>\n",
       "    </tr>\n",
       "    <tr>\n",
       "      <th>5</th>\n",
       "      <td>1948-05-01</td>\n",
       "      <td>69.18750</td>\n",
       "      <td>42.500000</td>\n",
       "      <td>1.900391</td>\n",
       "      <td>NaN</td>\n",
       "    </tr>\n",
       "    <tr>\n",
       "      <th>...</th>\n",
       "      <td>...</td>\n",
       "      <td>...</td>\n",
       "      <td>...</td>\n",
       "      <td>...</td>\n",
       "      <td>...</td>\n",
       "    </tr>\n",
       "    <tr>\n",
       "      <th>896</th>\n",
       "      <td>2022-08-01</td>\n",
       "      <td>85.12500</td>\n",
       "      <td>58.406250</td>\n",
       "      <td>1.820312</td>\n",
       "      <td>0.000000</td>\n",
       "    </tr>\n",
       "    <tr>\n",
       "      <th>897</th>\n",
       "      <td>2022-09-01</td>\n",
       "      <td>82.12500</td>\n",
       "      <td>51.687500</td>\n",
       "      <td>0.500000</td>\n",
       "      <td>0.000000</td>\n",
       "    </tr>\n",
       "    <tr>\n",
       "      <th>898</th>\n",
       "      <td>2022-10-01</td>\n",
       "      <td>66.62500</td>\n",
       "      <td>38.187500</td>\n",
       "      <td>0.150024</td>\n",
       "      <td>NaN</td>\n",
       "    </tr>\n",
       "    <tr>\n",
       "      <th>899</th>\n",
       "      <td>2022-11-01</td>\n",
       "      <td>50.31250</td>\n",
       "      <td>22.906250</td>\n",
       "      <td>0.239990</td>\n",
       "      <td>7.398438</td>\n",
       "    </tr>\n",
       "    <tr>\n",
       "      <th>900</th>\n",
       "      <td>2022-12-01</td>\n",
       "      <td>45.09375</td>\n",
       "      <td>16.203125</td>\n",
       "      <td>0.500000</td>\n",
       "      <td>3.900391</td>\n",
       "    </tr>\n",
       "  </tbody>\n",
       "</table>\n",
       "<p>900 rows × 5 columns</p>\n",
       "</div>"
      ],
      "text/plain": [
       "    Year_Month  maximumT   minimumT  precipitation  snowfall\n",
       "1   1948-01-01       NaN        NaN            NaN       NaN\n",
       "2   1948-02-01       NaN        NaN            NaN       NaN\n",
       "3   1948-03-01       NaN        NaN            NaN       NaN\n",
       "4   1948-04-01  63.59375  35.687500       1.070312  4.000000\n",
       "5   1948-05-01  69.18750  42.500000       1.900391       NaN\n",
       "..         ...       ...        ...            ...       ...\n",
       "896 2022-08-01  85.12500  58.406250       1.820312  0.000000\n",
       "897 2022-09-01  82.12500  51.687500       0.500000  0.000000\n",
       "898 2022-10-01  66.62500  38.187500       0.150024       NaN\n",
       "899 2022-11-01  50.31250  22.906250       0.239990  7.398438\n",
       "900 2022-12-01  45.09375  16.203125       0.500000  3.900391\n",
       "\n",
       "[900 rows x 5 columns]"
      ]
     },
     "execution_count": 4,
     "metadata": {},
     "output_type": "execute_result"
    }
   ],
   "source": [
    "#convert numeric values to float \n",
    "# errors='coerce' sets any value that is not recognized as a numeric value to NaN\n",
    "df['maximumT']      = pd.to_numeric(df['maximumT'],      errors='coerce').astype(np.float16)\n",
    "df['minimumT']      = pd.to_numeric(df['minimumT'],      errors='coerce').astype(np.float16)\n",
    "df['precipitation'] = pd.to_numeric(df['precipitation'], errors='coerce').astype(np.float16)\n",
    "df['snowfall']      = pd.to_numeric(df['snowfall'],      errors='coerce').astype(np.float16)\n",
    "\n",
    "# print the data type of each column\n",
    "print(df.dtypes)\n",
    "\n",
    "# convert the Year_Month Series to a datetime object with the syntax: YYYY-MM-DD\n",
    "year_month = df[\"Year_Month\"]\n",
    "date_format = '%Y-%m'\n",
    "date_obj = []\n",
    "\n",
    "# loop through all timesteps and do the datetime conversion\n",
    "for i in range(0,len(year_month)):\n",
    "    tmp = year_month.iloc[i]\n",
    "    date_obj.append(datetime.strptime(tmp, date_format))\n",
    "\n",
    "date_obj = pd.DatetimeIndex(date_obj)\n",
    "df = df.assign(Year_Month=date_obj)\n",
    "df"
   ]
  },
  {
   "cell_type": "markdown",
   "id": "ef672ef3-7c6d-46b2-9035-3d33b5bdaa89",
   "metadata": {
    "deletable": false,
    "editable": false
   },
   "source": [
    "---\n",
    "## Select a subset of a DataFrame\n",
    "\n",
    "Each column in a **DataFrame** is a **Series**. To select a single column, use square brackets `[]` with the name of the column of interest as a string. For example: `series = df['columnName']` where `df` is the DataFrame and `columnName` is the name of a variable in the DataFrame ('snowfall', 'precipitation', etc.). Both single and double quotes will work for strings.\n",
    "\n",
    "**[2pts] <span style='color:Red'> Insert a cell below using the `+` icon and define two variables:** </span>\n",
    "- `year_month` for the time values\n",
    "- `maxT` for the maximum temperature values \n",
    "\n",
    "Verify that the variables `year_month` and `maxT` are pandas **Series** using the Python `type()` function. Nest the type function in the print function to display the data types: `print(type(<enter your code here>))` ."
   ]
  },
  {
   "cell_type": "markdown",
   "id": "8205707c-b383-4f54-87af-7ba1fcefe7c6",
   "metadata": {
    "deletable": false,
    "editable": false
   },
   "source": [
    "---\n",
    "## Plot the data with Matplotlib\n",
    "\n",
    "Now plot the monthly maximium temperature data. `matplotlib.pyplot` is a collection of functions for plotting that is already imported as `plt`.\n",
    "\n",
    "**[2pts] Generate and format a line plot of Colorado Springs monthly maximum temperature:**\n",
    "\n",
    "Use `plt.plot()` to generate an *x, y* plot with time on the x-axis and monthly maximum temperature on the y-axis. Before plotting, use `plt.figure(figsize=[12,4])` to set the figure size to 12x4. This will ensure that the data is not squished. Below is some sample code for plotting y versus x as a line:\n",
    "\n",
    "```\n",
    "# set figure size\n",
    "plt.figure(figsize=[12,4])\n",
    "\n",
    "# plot x and y using default line style and color\n",
    "plt.plot(x, y)\n",
    "```\n",
    "\n",
    "You will need to substitute, *x* and *y* with the `year_month` and `maxT` variables you defined above.\n",
    "\n",
    "**Format the plot:**\n",
    "\n",
    "Other paramters can be added to `plt.plot(x, y)` to format the plot. For example `plt.plot(x, y, 'ro')` will plot red circles. See the *Notes* section for the [matplotlib.pyplot.plot](https://matplotlib.org/stable/api/_as_gen/matplotlib.pyplot.plot.html) documentation for a full description of the available format strings. \n",
    "\n",
    "Once you generate the plot, change the line color to red (the default color is blue), set the linewidth to 1, add a title, and label the x and y-axes. Include units for the y-axis. You will use pyplot functions like `plt.title()`, `plt.xlabel()`, and `plt.ylabel()`. *Hint: This [Pyplot tutorial](https://matplotlib.org/stable/tutorials/pyplot.html#) is a helpful reference for this task.*\n",
    "\n",
    "**Save the figure:**\n",
    "\n",
    "Save the figure as `Lab0_CO_Springs_MonthlyMaxT.png`. To save the figure, use: `plt.savefig('Lab0_CO_Springs_MonthlyMaxT.png', bbox_inches='tight')`. Setting the bounding box in inches (**bbox_inches**) to 'tight' (`bbox_inches='tight'`) will remove extra space around the figure. Additional documentation about saving figures is provided [here](https://matplotlib.org/stable/api/_as_gen/matplotlib.pyplot.savefig.html).\n",
    "\n",
    "**<span style='color:Red'>Insert a cell below using the `+` icon and add your code for generating and formatting the figure. </span>**"
   ]
  },
  {
   "cell_type": "markdown",
   "id": "42a63c25-b854-49bd-8c7b-e19a5ad1f588",
   "metadata": {
    "deletable": false,
    "editable": false
   },
   "source": [
    "**[6pts] Generate additional line plots of Colorado Springs weather data:**\n",
    "\n",
    "Now plot monthly mimumum temperature, precipitation and snowfall [2pts for each plot]: \n",
    "- Include monthly maximum and minimum temperature in the same figure, but vary the line color (e.g., red for maximum temperature, blue for minimum temperature) to distinguish the two datasets.\n",
    "- Plot precipitation and snowfall as separate figures.\n",
    "- Add titles, axes labels, and units to all 3 plots\n",
    "- Set the `linewidth=1` in all plots\n",
    "\n",
    "Use the same figure size as above so all of your plots are consistent. Recall that: `plt.figure(figsize=[12,4])` will generate a 12x4 figure. \n",
    "\n",
    "Feel free to experiment with other plotting features like the line color, line style, markers versus no markers, etc. The goal is to practice using matplotlib to produce high-quality, easy to interpret figures!\n",
    "\n",
    "Save your figures as:\n",
    "- `Lab0_CO_Springs_MonthlyMaxMinT.png`\n",
    "- `Lab0_CO_Springs_MonthlyPrecip.png`\n",
    "- `Lab0_CO_Springs_MonthlySnow.png`\n",
    "\n",
    "<span style='color:Red'> **Insert cells below using the `+` icon.** </span> To help keep your code organize, it is recommended that each figure is generated in a separate cell.\n",
    "\n",
    "**<span style='color:Red'> Insert a cell below (`+`). Plot monthly maximum and minimum temperature versus time: </span>** "
   ]
  },
  {
   "cell_type": "markdown",
   "id": "9a39f2f5-b06e-4464-a035-198d644a2d11",
   "metadata": {
    "deletable": false,
    "editable": false
   },
   "source": [
    "**<span style='color:Red'> Insert a cell below (`+`). Plot monthly precipitation versus time: </span>**"
   ]
  },
  {
   "cell_type": "markdown",
   "id": "66ccf2f3-7248-4317-b30e-d26d9f24194e",
   "metadata": {
    "deletable": false,
    "editable": false
   },
   "source": [
    "**<span style='color:Red'> Insert a cell below (`+`). Plot monthly snowfall versus time: </span>**"
   ]
  },
  {
   "cell_type": "markdown",
   "id": "be978f5e-4eed-4633-b132-ab37924e4cda",
   "metadata": {
    "deletable": false,
    "editable": false
   },
   "source": [
    "**Answer the following questions using Python functions.**\n",
    "\n",
    "1. [1pt] What was the highest maximum monthly temperature recorded over the period of observation? \n",
    "2. [1pt] What was the lowest maximum monthly temperature recorded over the period of observation? \n",
    "3. [1pt] What was the lowest minimum monthly temperature recorded over the period of observation? \n",
    "4. [1pt] What was the highest monthly snowfall amount over the period of observation?\n",
    "\n",
    "***Hints:***\n",
    "- Python has functions that calculate maximum and minimum values. You can use `numpy.nanmax()` and `numpy.nanmin()` if the data set has mising values (NaNs).\n",
    "- Use `print()` to display your answers.\n",
    "\n",
    "**<span style='color:Red'>Insert a cell below using the `+` and add print statements to display the answers to the questions.</span>**"
   ]
  },
  {
   "cell_type": "markdown",
   "id": "d774aaa5-81e8-4cb2-ac52-e706be714eba",
   "metadata": {
    "deletable": false,
    "editable": false
   },
   "source": [
    "---\n",
    "## Calculate the average seasonal cycle for Colorado Springs\n",
    "\n",
    "Which month *on average* has the highest maximum temperatures? Which month has the most rain? What about the most snow? Can you easily answer this based on the time series plots? The answer is *probably not*. There is over 70 years of data and there are year-to-year fluctuations. It's hard to tell based on the time axis. Instead, we can calculate the average January value, the average February value, the average March value, ..., etc. The average month-to-month changes throughout the year is the average seasonal cycle, or the climatology.\n",
    "\n",
    "**[4pts] Calculate the average seasonal cycle:**\n",
    "\n",
    "Calculate the average monthly values and the standard deviation for the full observational record. This will be accomplished using the [groupby](https://pandas.pydata.org/pandas-docs/stable/reference/api/pandas.DataFrame.groupby.html) operation that involves splitting the object, applying a function, and combining the results. This is useful for grouping large amounts of data and computing operations on these groups. \n",
    "\n",
    "To group the DataFrame with Colorado Springs weather data, use the syntax: `df.groupby(df['Year_Month'].dt.month)`. This says to group the data by `month`. Then you can calculate the mean and standard deviation of the grouped DataFrame. \n",
    "\n",
    "***Hint:*** `.mean()` *and* `.std()` *methods can be performed on Pandas DataFrames.*\n",
    "\n",
    "**[9pts, 3pts for each subpanel] Plot the results:**\n",
    "\n",
    "Plot the average monthly values and the standard deviation for the full observational record. Your final figures will have month (1-12) on the x-axis and the average monthly values on the y-axis for each Series (*remember that individual columns can be accessed using brackets[], for example `df['maximumT']` will give you the 'maximum temperature' in the df DataFrame*). \n",
    "\n",
    "Plot the results for maximum temperature, minimum temperature, precipitation, and snowfall. A variable `months` will already be defined for you: `months = np.arange(1,13,1)`, where 1 = January, 12 = December.\n",
    "\n",
    "- Plot minimum and maximum temperature on the same figure as lines with markers. For example use the syntax: `plt.plot(x,y, 'o-').` Where x is months, and y is the average monthly value for a specified Series (e.g., . Be sure to indicate which line is which either by using different colors or adding a legend.\n",
    "- Include the standard deviation as shading on the temperature plot only. This can be accomplished using `fill_between()`. Set the transparency of the shading `alpha=0.8`\n",
    "- Plot precipitation and snowfall as bar plots. Set the transparency (alpha) to 0.8 `plt.bar(x, y, alpha=0.8)`. It is recommended that you use a consistent color scheme as the time series plots.\n",
    "\n",
    "Combine your climatology plots for each panel into 1 figure with 3 subplots: One panel for maximum and minimum temperature, one panel for precipitation, and one panel for snowfall. Some pseudocode is provided below to help get you started with defining the figure and axes. `fig, (ax1, ax2, ax3) = plt.subplots(1,3, figsize = [14, 4])` will define a figure with three axes (ax1, ax2, ax3).\n",
    "\n",
    "```\n",
    "# generate a 3 panel figure (max/min temperature combined, precip, snowfall) \n",
    "fig, (ax1, ax2, ax3) = plt.subplots(1,3, figsize = [14, 4])\n",
    "\n",
    "# average monthly min/max temperature as a line plot\n",
    "ax1.plot()\n",
    "...add your other code here (e.g., shading, titles, axes labels)...\n",
    "\n",
    "# average monthly precipitation as a bar plot\n",
    "ax2.bar()\n",
    "...add your other code here...\n",
    "\n",
    "# average monthly snowfall as a bar plot\n",
    "ax3.bar()\n",
    "...add your other code here...\n",
    "```\n",
    "\n",
    "Add titles, label all axes and include units with the y-axes. \n",
    "\n",
    "**Save your figure:**\n",
    "\n",
    "Save your figure as `Lab0_CO_Springs_MonthlyClimatology.png`.\n",
    "\n",
    "**Check your work:**\n",
    "\n",
    "After you generate all your figures, you can compare your results to the reported [climatology values for Colorado Springs](https://www.usclimatedata.com/climate/colorado-springs/colorado/united-states/usco0078). The data reported on this website is not from the same airport weather station, so do not expect an exact match. However, the magnitudes of the values will be similar."
   ]
  },
  {
   "cell_type": "code",
   "execution_count": 11,
   "id": "018cc9cf-b365-4472-86eb-fd34874f853d",
   "metadata": {
    "deletable": false,
    "editable": false
   },
   "outputs": [],
   "source": [
    "# This cell does not need to be modified\n",
    "# NumPy array with values for the calendar months (January = 1, December = 12), plot these values on the x-axis\n",
    "months = np.arange(1,13,1)"
   ]
  },
  {
   "cell_type": "markdown",
   "id": "da3087a8-31cc-4a12-95c8-370469ec5d40",
   "metadata": {
    "deletable": false,
    "editable": false
   },
   "source": [
    "**<span style='color:Red'> Insert cell(s) below (`+`) </span>. Add your code for calculating the seasonal cycle and generating the figure.**"
   ]
  },
  {
   "cell_type": "markdown",
   "id": "2b4897d6-7756-4ff7-9f4b-539fc71522ed",
   "metadata": {
    "deletable": false,
    "editable": false
   },
   "source": [
    "**Interpret your figures:** You may visually inspect the graphs to determine the calendar month, but must use Python functions to print the precise values. \n",
    "1. [1pt] Which month on average has the warmest monthly maximum temperature? What is the value? \n",
    "2. [1pt] Which month on average has the coldest monthly minimum temperature? What is the value?\n",
    "3. [1pt] Which month on average received the most precipitation? What about snowfall? What are the values?\n",
    "4. [1pt] Are the values you calculated consistent with your experiences as a student living in Colorado?\n",
    "\n",
    "**<span style='color:Red'> Insert a cell below (`+`) </span>**, perform the calculations, and include print statements with your answers. For example:\n",
    "\n",
    "```\n",
    "# highest maximum temperature\n",
    "print('<enter month here> on average has the warmest monthly maximum temperature.')\n",
    "print('Avg. warmest monthly maximum temperature:', '<add your code here>', '<add units here>')\n",
    "\n",
    "# coldest monthly minimum temperatire\n",
    "print('<enter month here> on average has the coldest monthly maximum temperature.')\n",
    "print('Avg. coldest monthly minimum temperature:', '<add your code here>', '<add units here>')\n",
    "\n",
    "...continue with the other questions here...\n",
    "```"
   ]
  },
  {
   "cell_type": "markdown",
   "id": "cbe0c17d",
   "metadata": {
    "deletable": false,
    "editable": false
   },
   "source": [
    "---\n",
    "## Calculate total annual precipitation and snowfall \n",
    "\n",
    "**[4pts] <span style='color:Red'> Insert a cell below (`+`) </span> and calculate the total annual precipitation and snowfall versus time (2 pts for each variable).** \n",
    "\n",
    "This is the sum of precipitation or snowfall from January-December every year.  \n",
    "\n",
    "**<span style='color:Red'> Insert a cell below (`+`) </span>**, and define two variables called `annPrecip` and `annSnow`.\n",
    "\n",
    "*Hint: Use the `df.groupby` and `.sum()` methods on the monthly `df` DataFrame. This is very similar to the steps above to calculate the monthly means and standard deviations, except you will need to change the time step to year and calculate the sum.*"
   ]
  },
  {
   "cell_type": "markdown",
   "id": "3a2eee38-31ce-4471-b924-f0b26d7430b7",
   "metadata": {
    "deletable": false,
    "editable": false
   },
   "source": [
    "**[2pts] <span style='color:Red'> Insert a cell below (`+` icon) </span>** and calculate on average how much *precipitation* does the Colorado Springs Airport receive annually? Please report the mean **and** the standard deviation with the approrpiate units.\n",
    "\n",
    "After performing the calculation, print the values using the following code:\n",
    "```\n",
    "print('Avg. precip.', <enter your avg. variable>, '±', <enter your std. dev. variable>, 'in')\n",
    "```"
   ]
  },
  {
   "cell_type": "markdown",
   "id": "e080a57b-2909-4063-b834-fc6e27b74d38",
   "metadata": {
    "deletable": false,
    "editable": false
   },
   "source": [
    "---\n",
    "## Calculate annual means\n",
    "\n",
    "Although monthly records are valuable for a variety of purposes, we are now going to shift our focus to average annual temperatures. The annual mean is calculated for you below. The output is a DataFrame called `df_annual`. "
   ]
  },
  {
   "cell_type": "code",
   "execution_count": 16,
   "id": "d4e0b529-aee9-4d5d-a73f-46117a09a388",
   "metadata": {
    "deletable": false,
    "editable": false
   },
   "outputs": [
    {
     "data": {
      "text/html": [
       "<div>\n",
       "<style scoped>\n",
       "    .dataframe tbody tr th:only-of-type {\n",
       "        vertical-align: middle;\n",
       "    }\n",
       "\n",
       "    .dataframe tbody tr th {\n",
       "        vertical-align: top;\n",
       "    }\n",
       "\n",
       "    .dataframe thead th {\n",
       "        text-align: right;\n",
       "    }\n",
       "</style>\n",
       "<table border=\"1\" class=\"dataframe\">\n",
       "  <thead>\n",
       "    <tr style=\"text-align: right;\">\n",
       "      <th></th>\n",
       "      <th>Year_Month</th>\n",
       "      <th>maximumT</th>\n",
       "      <th>minimumT</th>\n",
       "      <th>precipitation</th>\n",
       "      <th>snowfall</th>\n",
       "    </tr>\n",
       "    <tr>\n",
       "      <th>Year_Month</th>\n",
       "      <th></th>\n",
       "      <th></th>\n",
       "      <th></th>\n",
       "      <th></th>\n",
       "      <th></th>\n",
       "    </tr>\n",
       "  </thead>\n",
       "  <tbody>\n",
       "    <tr>\n",
       "      <th>1948</th>\n",
       "      <td>1948-06-16 08:00:00</td>\n",
       "      <td>67.843750</td>\n",
       "      <td>40.375000</td>\n",
       "      <td>1.541543</td>\n",
       "      <td>1.579980</td>\n",
       "    </tr>\n",
       "    <tr>\n",
       "      <th>1949</th>\n",
       "      <td>1949-06-16 12:00:00</td>\n",
       "      <td>61.398438</td>\n",
       "      <td>35.014648</td>\n",
       "      <td>1.146224</td>\n",
       "      <td>3.712677</td>\n",
       "    </tr>\n",
       "    <tr>\n",
       "      <th>1950</th>\n",
       "      <td>1950-06-16 12:00:00</td>\n",
       "      <td>62.804688</td>\n",
       "      <td>35.236980</td>\n",
       "      <td>1.014173</td>\n",
       "      <td>1.800103</td>\n",
       "    </tr>\n",
       "    <tr>\n",
       "      <th>1951</th>\n",
       "      <td>1951-06-16 12:00:00</td>\n",
       "      <td>59.968750</td>\n",
       "      <td>33.417316</td>\n",
       "      <td>1.344981</td>\n",
       "      <td>2.933092</td>\n",
       "    </tr>\n",
       "    <tr>\n",
       "      <th>1952</th>\n",
       "      <td>1952-06-16 08:00:00</td>\n",
       "      <td>62.080730</td>\n",
       "      <td>35.401043</td>\n",
       "      <td>0.913406</td>\n",
       "      <td>3.314453</td>\n",
       "    </tr>\n",
       "    <tr>\n",
       "      <th>...</th>\n",
       "      <td>...</td>\n",
       "      <td>...</td>\n",
       "      <td>...</td>\n",
       "      <td>...</td>\n",
       "      <td>...</td>\n",
       "    </tr>\n",
       "    <tr>\n",
       "      <th>2018</th>\n",
       "      <td>2018-06-16 12:00:00</td>\n",
       "      <td>65.296875</td>\n",
       "      <td>37.091145</td>\n",
       "      <td>1.284246</td>\n",
       "      <td>3.562744</td>\n",
       "    </tr>\n",
       "    <tr>\n",
       "      <th>2019</th>\n",
       "      <td>2019-06-16 12:00:00</td>\n",
       "      <td>63.815105</td>\n",
       "      <td>35.684895</td>\n",
       "      <td>0.979167</td>\n",
       "      <td>5.811198</td>\n",
       "    </tr>\n",
       "    <tr>\n",
       "      <th>2020</th>\n",
       "      <td>2020-06-16 08:00:00</td>\n",
       "      <td>66.453125</td>\n",
       "      <td>37.307293</td>\n",
       "      <td>0.824254</td>\n",
       "      <td>4.666422</td>\n",
       "    </tr>\n",
       "    <tr>\n",
       "      <th>2021</th>\n",
       "      <td>2021-06-16 12:00:00</td>\n",
       "      <td>65.661461</td>\n",
       "      <td>38.267578</td>\n",
       "      <td>1.205070</td>\n",
       "      <td>4.360010</td>\n",
       "    </tr>\n",
       "    <tr>\n",
       "      <th>2022</th>\n",
       "      <td>2022-06-16 12:00:00</td>\n",
       "      <td>65.598961</td>\n",
       "      <td>37.097656</td>\n",
       "      <td>1.124297</td>\n",
       "      <td>4.429492</td>\n",
       "    </tr>\n",
       "  </tbody>\n",
       "</table>\n",
       "<p>75 rows × 5 columns</p>\n",
       "</div>"
      ],
      "text/plain": [
       "                    Year_Month   maximumT   minimumT  precipitation  snowfall\n",
       "Year_Month                                                                   \n",
       "1948       1948-06-16 08:00:00  67.843750  40.375000       1.541543  1.579980\n",
       "1949       1949-06-16 12:00:00  61.398438  35.014648       1.146224  3.712677\n",
       "1950       1950-06-16 12:00:00  62.804688  35.236980       1.014173  1.800103\n",
       "1951       1951-06-16 12:00:00  59.968750  33.417316       1.344981  2.933092\n",
       "1952       1952-06-16 08:00:00  62.080730  35.401043       0.913406  3.314453\n",
       "...                        ...        ...        ...            ...       ...\n",
       "2018       2018-06-16 12:00:00  65.296875  37.091145       1.284246  3.562744\n",
       "2019       2019-06-16 12:00:00  63.815105  35.684895       0.979167  5.811198\n",
       "2020       2020-06-16 08:00:00  66.453125  37.307293       0.824254  4.666422\n",
       "2021       2021-06-16 12:00:00  65.661461  38.267578       1.205070  4.360010\n",
       "2022       2022-06-16 12:00:00  65.598961  37.097656       1.124297  4.429492\n",
       "\n",
       "[75 rows x 5 columns]"
      ]
     },
     "execution_count": 16,
     "metadata": {},
     "output_type": "execute_result"
    }
   ],
   "source": [
    "# calculate the annual mean\n",
    "df_annual = df.groupby(df['Year_Month'].dt.year).mean()\n",
    "df_annual"
   ]
  },
  {
   "cell_type": "markdown",
   "id": "c1a69a4b-d3c5-4272-af98-5ebb9ec75b72",
   "metadata": {
    "deletable": false,
    "editable": false
   },
   "source": [
    "**Subset the data:**\n",
    "The full data set begins in April 1948 so skip plotting the first year of data because it is missing 3 months. Start the time series plots at 1949. Use indexing to accomplish this - to plot all but the first element in a Series use the following syntax: `SeriesName[1:]`.\n",
    "\n",
    "**Plot annual time series:**\n",
    "Generate a figure with 4 subplots. \n",
    "- You will need to define four axes using the following code: `fig, (ax1, ax2, ax3, ax4) = plt.subplots(1, 4, figsize= [20,4])`. The figure size is increased to accomodate the additional subplots. \n",
    "- ax1: Plot the time series for average annual maximum temperature\n",
    "- ax2: Plot the average annual minimum temperature.\n",
    "- ax3: Plot the total annual precipitation (the January-December sum defined in the previous section).\n",
    "- ax4: Plot the total annual snowfall (the January-December sum defined in the previous section).\n",
    "- Add titles and axes labels to all subplots as appropriate.\n",
    "- Save the figure as `Lab0_CO_Springs_Annual.png`."
   ]
  },
  {
   "cell_type": "markdown",
   "id": "19a784e5-d32e-4b6e-829a-dd82fd059029",
   "metadata": {
    "deletable": false,
    "editable": false
   },
   "source": [
    "**[10pts] <span style='color:Red'> Insert a cell below (`+`) and add your code to generate annual time series plots [2.5pts per plot]. </span>** Remember to skip plotting the annual average for 1948 and start your time series in 1949."
   ]
  },
  {
   "cell_type": "markdown",
   "id": "85389cf3-0885-4162-8fd2-292d4f66494c",
   "metadata": {
    "deletable": false,
    "editable": false
   },
   "source": [
    "---\n",
    "## Colorado Springs Weather & Climate Synthesis Questions [13pts]\n",
    "\n",
    "To answer the following questions, please consult your Lab 0 figures and draw upon your knowledge of the week 1 course material. \n",
    "\n",
    "1. [2pts] Colorado’s climate is governed by five major factors. Describe at least 3 of these factors and how they influence the local climate of Colorado Springs.\n",
    "2. [2pts] How would the seasons in Colorado Springs be affected if the tilt of the Earth’s axis increased from 23.5° to 40°? Qualitatively, how would this change the climatology plots you generated in this lab?\n",
    "3. [2pts] Why does the surface temperature often increase on a clear, calm night as a low cloud moves overhead?\n",
    "4. [2pts] Low clouds that touch the ground (fog) often fill the valleys below Pikes Peak. This is especially common during the morning and the winter. Why? To answer this question, draw on your knowledge of atmospheric thermodynamics, including air temperature, air density, evaporation/condensation, and saturation.\n",
    "5. [1pt] Why does the valley fog typically dissipate by mid-day?\n",
    "6. [2pts] We will not do formal trend analysis in this lab, but qualitatively what are the general long-term trends that you observe in the annual time series for each climate variable?\n",
    "7. [2pts] Under higher IPCC emissions scenarios, average annual global temperatures could increase by 2.9°C (5.2 °F) by 2100 relative to today (the Earth has already experienced around ~1.1°C of warming compared to preindustrial levels). How would an additional 2.9°C of warming locally impact water resources in the Rocky Mountain region. There are many ways to answer this question and receive full credit – consistency of thought is what is important.  \n",
    "\n",
    "**<span style='color:Red'> Insert a cell below (`+`) </span> and select 'Markdown' as the cell type.** Type your responses to each question and run the cell to display the formatted text."
   ]
  },
  {
   "cell_type": "markdown",
   "id": "3df886e6-3e9a-448f-8a77-99c1677882c9",
   "metadata": {
    "deletable": false,
    "editable": false
   },
   "source": [
    "## Congratulations! You completed your first EV333 Python lab! \n",
    "\n",
    "**To submit your lab:**\n",
    "1. Run the entire Notebook from the beginning and check that it generates all figures and does not have any errors.\n",
    "2. Save your Jupyter Notebook and upload it to Canvas with the following file name: *LastName_FirstName_EV333_Lab0.ipynb*"
   ]
  }
 ],
 "metadata": {
  "celltoolbar": "Tags",
  "kernelspec": {
   "display_name": "Python 3 (ipykernel)",
   "language": "python",
   "name": "python3"
  },
  "language_info": {
   "codemirror_mode": {
    "name": "ipython",
    "version": 3
   },
   "file_extension": ".py",
   "mimetype": "text/x-python",
   "name": "python",
   "nbconvert_exporter": "python",
   "pygments_lexer": "ipython3",
   "version": "3.11.5"
  }
 },
 "nbformat": 4,
 "nbformat_minor": 5
}
