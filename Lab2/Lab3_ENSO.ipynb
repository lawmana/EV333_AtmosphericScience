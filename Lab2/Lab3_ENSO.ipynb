{
 "cells": [
  {
   "cell_type": "markdown",
   "id": "4cd6e7d6",
   "metadata": {
    "deletable": false,
    "editable": false
   },
   "source": [
    "# Lab 3: The El Niño-Southern Oscillation (ENSO)\n",
    "\n",
    "## Overview\n",
    "\n",
    "The El Niño–Southern Oscillation (ENSO) is a coupled ocean‐atmosphere climate phenomenon with global impacts on temperature, sea level pressure, and precipitation patterns (Bjerknes, 1969; Ropelewski & Halpert, 1987). This lab explores observed ENSO variability from 1950-Present. \n",
    "\n",
    "Please carefully read the dataset descriptions prior to starting the lab and use comments (`#`) throughout to organize your code and make it more readable. **This lab is worth 60 points.**\n",
    "\n",
    "### Learning objectives\n",
    "\n",
    "**In this lab you will learn and practice the following skills:**\n",
    "\n",
    "- Interpreting global atmospheric and sea surface temperature patterns associated with ENSO\n",
    "- Geospatial analysis \n",
    "- Statistical analysis\n",
    "- Manipulating gridded data with Xarray\n",
    "- Data visualization with Cartopy, Matplotlib, and cmocean\n",
    "\n",
    "### To submit via Canvas:\n",
    "\n",
    "To foster a collaborative learning environment, you are encouraged to work in groups of 2-3, but each person must write and submit their own code (and comments), and individually answer all interpretation questions. All students must complete all problems - it is against the honor code to divide the problems up among different individuals. \n",
    "\n",
    "- Prior to submitting your lab assignments on Canvas, please name your Notebook files using the following syntax: *LastName_FirstName_EV333_Lab3.ipynb.*\n",
    "- Type you responses to the short-answer questions in this Notebook. Add a cell and select 'Markdown' instead of 'Code' from the drop down menu. Add **Answer:** and provide your written responses.\n",
    "- Re-run all cells to ensure that the Notebook runs completely through without errors and that all figures are displayed.\n",
    "- Upload your final Jupyter Notebook (.ipynb file) to Canvas\n",
    "\n",
    "---\n",
    "## Description of Datasets\n",
    "\n",
    "**Required data:** (Download from GitHub)\n",
    "- **Nino3.4 sea surface temperature anomaly:** detrend.nino34.monthly.txt\n",
    "- **ERA5 Sea surface temperature:** ERA5_monthly_sst_regrid.nc \n",
    "- **ERA5 Mean sea level pressure:** ERA5_monthly_msl_regrid.nc\n",
    "\n",
    "### Niño3.4 Monthly SST Anomalies\n",
    "\n",
    "Sea surface temperature anomalies (SSTA) averaged across the Niño 3.4 region (5°N-5°S, 120°-170°W) in the central equatorial Pacific are used to define El Niño (warm phase) and La Niña (cool phase) events. Monthly SST anomalies from January 1950- February 2024 are provided in `detrend.nino34.monthly.txt`. The anomalies are based on centered 30-year reference periods updated every 5 years (i.e., sliding climatologies). This approach detrends the data, removing the long-term observed warming signal. Data downloaded from [NOAA/CPC](https://www.cpc.ncep.noaa.gov/products/analysis_monitoring/ensostuff/detrend.nino34.ascii.txt).\n",
    "\n",
    "\n",
    "### ERA5 Reanalysis\n",
    "\n",
    "ERA5 is produced by the Copernicus Climate Change Service at the European Centre for Medium-Range Weather Forecasts (ECMWF). The data was accessed from the [ECMWF Climate Data Portal](https://www.ecmwf.int/en/forecasts/dataset/ecmwf-reanalysis-v5).\n",
    "\n",
    "The full reanalysis product covers the period from January 1940 to present. The original monthly datasets were regridded to a much coarser  ~4 $^\\circ$ latitude x 4$^\\circ$ longitude horizontal resolution (16.7 MB per file). The 4$^\\circ$ resolution will still show the broad global patterns. You will work with sea surface temperature (SST) and mean sea level pressure (SLP) data in this lab.\n",
    "\n",
    "**Sea surface temperature (K):** This parameter (SST) is the temperature of sea water near the surface. In ERA5, this parameter is a foundation SST, which means there are no variations due to the daily cycle of the sun (diurnal variations). SST, in ERA5, is given by two external providers. Before September 2007, SST from the HadISST2 dataset is used and from September 2007 onwards, the OSTIA dataset is used. This parameter has units of kelvin (K). Temperature measured in kelvin can be converted to degrees Celsius by subtracting 273.15.\n",
    "\n",
    "**Mean sea level pressure (Pa):** This parameter is the pressure (force per unit area) of the atmosphere at the surface of the Earth, adjusted to the height of mean sea level. It is a measure of the weight that all the air in a column vertically above a point on the Earth's surface would have, if the point were located at mean sea level. It is calculated over all surfaces - land, sea and inland water. Maps of mean sea level pressure are used to identify the locations of low and high pressure. Contours of mean sea level pressure also indicate the strength of the wind. Tightly packed contours show stronger winds. The units of this parameter are pascals (Pa). Mean sea level pressure is often measured in hPa and sometimes is presented in units of millibars, mb (1 hPa = 1 mb = 100 Pa)."
   ]
  },
  {
   "cell_type": "code",
   "execution_count": null,
   "id": "cddc79f4",
   "metadata": {
    "deletable": false,
    "editable": false
   },
   "outputs": [],
   "source": [
    "# import Python packages\n",
    "import xarray as xr\n",
    "import numpy as np\n",
    "import pandas as pd\n",
    "import matplotlib.pyplot as plt\n",
    "import cmocean\n",
    "import cartopy.crs as ccrs\n",
    "import cartopy.feature as cfeature\n",
    "from cartopy.util import add_cyclic_point"
   ]
  },
  {
   "cell_type": "markdown",
   "id": "9b62aa3f",
   "metadata": {
    "deletable": false,
    "editable": false
   },
   "source": [
    "## Part 1. Load & plot Niño3.4 monthly SSTA\n",
    "\n",
    "The NOAA/CPC monthly Niño 3.4 detrended anomalies have already been calculated for you. \n",
    "\n",
    "**<span style='color:Red'> Insert a cell below (`+`).  </span> Define a variable called `fileName`** specifying the full file path for the `detrend.nino34.monthly.txt` dataset that contains the monthly Niño 3.4 SST anomalies:\n",
    "\n",
    "```\n",
    "fileName = '<add your path here>'\n",
    "```"
   ]
  },
  {
   "cell_type": "markdown",
   "id": "5a212c01",
   "metadata": {
    "deletable": false,
    "editable": false
   },
   "source": [
    "Load the file as a Pandas dataframe called `df`. The goal of this lab is to practice manipulating and plotting the data, so the pre-processing steps are completed for you. The processed `df` DataFrame is displayed. Please consult Lab 0 or the other Python tutorials if you need a refresher about working with Pandas dataframes. "
   ]
  },
  {
   "cell_type": "code",
   "execution_count": null,
   "id": "8644c72f",
   "metadata": {
    "deletable": false,
    "editable": false
   },
   "outputs": [],
   "source": [
    "# load data as a Pandas DataFrame (df)\n",
    "df = pd.read_fwf(fileName)\n",
    "\n",
    "# remove data that isn't needed\n",
    "df = df.drop(['TOTAL','ClimAdjust'], axis=1)\n",
    "\n",
    "# convert to datetime\n",
    "time = pd.to_datetime(dict(year=df.YR, month=df.MON, day=1))\n",
    "df = df.drop(['MON'], axis=1)\n",
    "df = df.rename(columns={'YR': 'time'})\n",
    "df['time'] = time\n",
    "\n",
    "df"
   ]
  },
  {
   "cell_type": "markdown",
   "id": "4feb12bd",
   "metadata": {
    "deletable": false,
    "editable": false
   },
   "source": [
    "Let's average out some of the shorter-term \"weather\" noise in the data to better highlight variations on year-to-year or \"interannual\" timescales. Here, we define a variable called `df_smooth` and calculate the 5-month running mean. This step has been done for you in the cell below and the output is displayed."
   ]
  },
  {
   "cell_type": "code",
   "execution_count": null,
   "id": "f0fddca0",
   "metadata": {
    "deletable": false,
    "editable": false
   },
   "outputs": [],
   "source": [
    "df_smooth = df.ANOM.rolling(window=5, center=True).mean().to_frame()\n",
    "df_smooth.insert(0,'time',df.time)\n",
    "df_smooth = df_smooth.dropna()\n",
    "df_smooth"
   ]
  },
  {
   "cell_type": "markdown",
   "id": "c61c66ab",
   "metadata": {
    "deletable": false,
    "editable": false
   },
   "source": [
    "### Generate a plot of Niño 3.4 SSTA versus time\n",
    "\n",
    "Each column in a **DataFrame** is a **Series**. To select a single column, use square brackets `[]` with the name of the column of interest as a string. For example: `ssta = df['ANOM']` where `df` is the DataFrame and `ANOM` is the name of a variable in the DataFrame. Both single and double quotes will work for strings.\n",
    "\n",
    "**[6pts] <span style='color:Red'> Insert a cell below (`+`).  </span> and generate an x, y line plot of Niño3.4 SSTA vs. time. Plot the monthly data as a red line and the 5-month running mean (smoothed) data as a thicker black line.** Add a horizontal line at 0 deg C to help the viewer easily differentiate positive and negative anomalies. This is done with the code: `plt.axhline(y = 0, color = 'k', linestyle = '-')`\n",
    "\n",
    "When defining the figure, set `figsize=[12,4]`. Add a title and axes labels (with units!) to your plot. Save the figure as `Lab3_Nino34_SSTA.png`. Some sample code is provided for you to build upon.\n",
    "\n",
    "```\n",
    "# define figure\n",
    "plt.figure(figsize=[12,4])\n",
    "\n",
    "# add a horizontal line at 0 deg C\n",
    "plt.axhline(y = 0, color = 'k', linestyle = '-') \n",
    "\n",
    "# plot Nino34 SSTA vs. time (monthly)\n",
    "...add your code here...\n",
    "\n",
    "# plot Nino34 SSTA vs. time (5-month running mean)\n",
    "...add your code here...\n",
    "\n",
    "# add a title and axes labels (with units)\n",
    "...add your code here...\n",
    "\n",
    "# save the figure\n",
    "plt.savefig('Lab3_Nino34_SSTA.png', bbox_inches='tight')\n",
    "\n",
    "```"
   ]
  },
  {
   "cell_type": "markdown",
   "id": "a04a514f",
   "metadata": {
    "deletable": false,
    "editable": false
   },
   "source": [
    "## Part 2: Load ERA5 sea-surface temeprature (SST) data and generate a map of global mean SST\n",
    "\n",
    "Part 2 builds upon the skills you developed in Lab 2 General Atmospheric Circulation, but with a new dataset.\n",
    "\n",
    "1. Define a variable `SST` and load the ERA5 SST data using the Python xarray package (see Lab 2 for a refresher)\n",
    "2. Subset the data to January 1950-Present: `SST = SST.isel(time=(SST.time.dt.year > 1949))`\n",
    "3. Convert kelvin to degrees Celsius\n",
    "\n",
    "For this lab we want to use the SST variable (abbreviated `sst`). We can access `sst` by treating our DataSet like a dictionary: `SST['sst']`.\n",
    "\n",
    "**[3pts] <span style='color:Red'> Insert a cell below (`+`).  </span> Load, subset, and convert the SST data following the steps above.** An outline with sample code is provided below:\n",
    "\n",
    "```\n",
    "# load the data using xarray\n",
    "SST = ...add your code here...\n",
    "\n",
    "# subset the data to 1950-Present\n",
    "SST = SST.isel(time=(SST.time.dt.year > 1949))\n",
    "\n",
    "# convert from K to deg C\n",
    "SST = ...add your code here...\n",
    "\n",
    "SST\n",
    "\n",
    "```"
   ]
  },
  {
   "cell_type": "markdown",
   "id": "57473679",
   "metadata": {
    "deletable": false,
    "editable": false
   },
   "source": [
    "### Calculate mean SST and generate a Pacific-centered global map\n",
    "\n",
    "**[1pt] <span style='color:Red'> Insert a cell below (`+`).** Insert a cell and define a variable `m_SST` and calculate mean SST."
   ]
  },
  {
   "cell_type": "markdown",
   "id": "1149958e",
   "metadata": {
    "deletable": false,
    "editable": false
   },
   "source": [
    "Recall for plotting maps using Cartopy we need to specific a map projection, a colormap variable (e.g., `cmap`) from the cmocean package, and the levels for the colorbar (e.g., `lev`). Example code is provided below. Please refer to Lab 2 for additional examples.\n",
    "\n",
    "```\n",
    "# map projection\n",
    "proj = ccrs.Robinson(central_longitude=180)\n",
    "\n",
    "# selected color map from cmocean colormaps for oceanography\n",
    "cmap = cmocean.cm.thermal\n",
    "\n",
    "# NumPy array for the color bar levels, here from 0 degC to +30 degC, in increments of 2 degC \n",
    "lev = np.arange(0, 30, 2);\n",
    "```\n",
    "\n",
    "**<span style='color:Red'> Insert a cell below (`+`)** to specify the mapping variables."
   ]
  },
  {
   "cell_type": "markdown",
   "id": "b532c0df",
   "metadata": {
    "deletable": false,
    "editable": false
   },
   "source": [
    "**[3pts] <span style='color:Red'> Insert a cell below (`+`)** Generate a map of mean SST, using the sample code below as a guide.\n",
    "\n",
    "```\n",
    "# define figure and axes, figure size, and resolution (300 dpi))\n",
    "fig = plt.figure(figsize=(9, 4.5), dpi=300)\n",
    "ax = plt.axes(projection = proj)\n",
    "\n",
    "# filled contour map of mean temperature\n",
    "m_SST.plot.contourf(\n",
    "    x = 'lon',\n",
    "    y = 'lat',\n",
    "    ax=ax,\n",
    "    transform=ccrs.PlateCarree(),\n",
    "    levels=lev,\n",
    "    extend='both',\n",
    "    colors=cmap,\n",
    "    add_colorbar=True,\n",
    "    cbar_kwargs = {\"label\":\"<update the color bar label with units>\"})\n",
    "\n",
    "# add coastlines\n",
    "ax.coastlines(\n",
    "   resolution='110m')  #Currently can be one of “110m”, “50m”, and “10m”.\n",
    "\n",
    "# add coastlines masking the land in lightgray\n",
    "ax.add_feature(cfeature.NaturalEarthFeature('physical', 'land', '110m', edgecolor='k', facecolor='lightgray'))\n",
    "\n",
    "# add grid lines\n",
    "gl = ax.gridlines(crs=ccrs.PlateCarree(),\n",
    "                  draw_labels=True,\n",
    "                  linewidth=1,\n",
    "                  color='gray',\n",
    "                  alpha=0.5,\n",
    "                  linestyle='--')\n",
    "\n",
    "# add title\n",
    "ax.set_title(\"UPDATE TITLE\")\n",
    "\n",
    "# save figure \n",
    "fig.savefig('Lab3_ERA5_mean_SST.png', facecolor = 'white', transparent = False, bbox_inches ='tight')\n",
    "```"
   ]
  },
  {
   "cell_type": "markdown",
   "id": "28cb8296",
   "metadata": {
    "deletable": false,
    "editable": false
   },
   "source": [
    "## Part 3: Load ERA5 mean sea level pressure (SLP) data and generate a global map of mean SLP\n",
    "\n",
    "Repeat the steps in Part 2 for mean sea level pressure:\n",
    "\n",
    "1. Define a variable `SLP` and load the ERA5 mean sea level ('msl') pressure data using the Python xarray package\n",
    "2. Subset the data to January 1950-Present: `SLP = SLP.isel(time=(SLP.time.dt.year > 1949))`\n",
    "3. Convert Pa to hPa. We can access the `msl` variable by treating our DataSet like a dictionary: `SLP['msl']`.\n",
    "4. Define a variable `m_slp` and calculate the mean\n",
    "5. Generate a global map, similar to SST. Use an appropriate cmocean colormap.\n",
    "6. Format the map by adding a title, axes labels with units, coastlines, etc. Do not fill in the coastlines like with SST.\n",
    "7. Save the figure as `Lab3_ERA5_mean_slp.png`\n",
    "\n",
    "**[5pts] <span style='color:Red'> Insert a cell below (`+`) and generate a map of mean sea level pressure.**"
   ]
  },
  {
   "cell_type": "markdown",
   "id": "223a60ef",
   "metadata": {
    "deletable": false,
    "editable": false
   },
   "source": [
    "## Part 4: Calculate climatology-removed monthly SST anomalies (SSTA) \n",
    "\n",
    "Which month *on average* has the highest SST? Which month has the highest SLP? In Lab0 you learned how to answer these questions by calculating an average seasonal cycle, also known as the climatology. This involved calculating the average January value, the average February value, the average March value, ..., etc. \n",
    "\n",
    "This will be accomplished using the [groupby](https://pandas.pydata.org/pandas-docs/stable/reference/api/pandas.DataFrame.groupby.html) operation that involves splitting the object, applying a function, and combining the results. This is useful for grouping large amounts of data and computing operations on these groups. To group a DataArray, use the syntax: `ds.groupby(ds['Year_Month'].dt.month)` where `ds` is a generic variable name meant to represent the DataArray. This says to group the data by `month`. Then you can calculate the mean by performing the `.mean()` method on the grouped DataArray. \n",
    "\n",
    "In this lab, we want to *remove* the seasonal cycle from the SST and SLP data to yield monthly anomalies. But first we need to remove the long-term warming trend from the data. A future question will ask you why this is the case.\n",
    "\n",
    "The cell below contains a function that will by default remove a linear trend from a dataset. You do not need to modify the function."
   ]
  },
  {
   "cell_type": "code",
   "execution_count": null,
   "id": "87deb46d",
   "metadata": {
    "deletable": false,
    "editable": false
   },
   "outputs": [],
   "source": [
    "def detrend(da, dim, deg=1):\n",
    "    # detrend along a single dimension\n",
    "    p = da.polyfit(dim=dim, deg=deg)\n",
    "    fit = xr.polyval(da[dim], p.polyfit_coefficients)\n",
    "    return da - fit"
   ]
  },
  {
   "cell_type": "markdown",
   "id": "f1194673",
   "metadata": {
    "deletable": false,
    "editable": false
   },
   "source": [
    "**[2pts] <span style='color:Red'> Insert a cell below (`+`)** and use the detrend function to linearly detrend the gridded SST dataset. Call the variable `SST_Filt`."
   ]
  },
  {
   "cell_type": "markdown",
   "id": "55821086",
   "metadata": {
    "deletable": false,
    "editable": false
   },
   "source": [
    "Now, using the detrended data `SST_Filt`, calculate the climatology-removed monthly SSTA as a variable called `anom_SST`. You will first need to calculate the climatology (average seasonal cycle) and then subtract it. The groupby operation is shown in the example code below.\n",
    "\n",
    "Important! Essentially this step means that the average January value is being subtracted from every january value. The average February is being subtracted from every February value, etc. Example code is provided below, but please make sure you understand what the different lines do before proceeding.\n",
    "\n",
    "```\n",
    "# climatology (average seasonal cycle) of the filtered data\n",
    "clim_SST = SST_Filt.groupby(SST_Filt['time'].dt.month).mean()\n",
    "\n",
    "# monthly anomalies\n",
    "anom_SST = SST_Filt.groupby(SST_Filt['time'].dt.month) - clim_SST\n",
    "\n",
    "anomSST\n",
    "```\n",
    "\n",
    "**[3pts] <span style='color:Red'> Insert a cell below (`+`)** and calculate the climatology-removed monthly SST anomalies."
   ]
  },
  {
   "cell_type": "markdown",
   "id": "3435211a",
   "metadata": {
    "deletable": false,
    "editable": false
   },
   "source": [
    "## Part 5: Calculate climatology-removed monthly SLP anomalies (SLP_anom) \n",
    "\n",
    "Repeat part 3 for SLP:\n",
    "1. Detrend the data using the `detrend` function\n",
    "2. Calculate the climatology as a variable called `clim_SLP`\n",
    "3. Calculate the monthly anomalies\n",
    "\n",
    "**[4pts] <span style='color:Red'> Insert a cell below (`+`)** and calculate the monthly SLP anomalies. Call this variable `anom_SLP`."
   ]
  },
  {
   "cell_type": "markdown",
   "id": "7832d181",
   "metadata": {
    "deletable": false,
    "editable": false
   },
   "source": [
    "## Part 6. Identify SST and SLP anomalies during select ENSO events\n",
    "\n",
    "Now, let's explore the observed patterns of SST and SLP anomalies during El Niño and La Niña events! \n",
    "\n",
    "Using your Niño3.4 anomaly time series, identify a year with a large El Niño event. ENSO events peak during Northern Hemisphere winter (e.g., November-January or December-February) and thus bridge calendar years. For example the 1982-83 El Niño would be December 1982-February 1983. \n",
    "\n",
    "Define two variables `start_time` and `end_time`. These variables will be assigned a datetime string following the convention `YYYY-MM-DD`. Specify a starting Year/Month and ending Year/Month for select ENSO events. For the 1982-83 El Niño you would use:\n",
    "\n",
    "```\n",
    "start_time = '1982-11-01'\n",
    "end_time = '1983-01-31'\n",
    "```\n",
    "\n",
    "Use the `.sel(time=slice())` method to subset the SSTA and the SLP anomalies to the time interval specified by `start_time` and `end_time` and then calculate the mean using the `mean.()` method. For example:\n",
    "\n",
    "```\n",
    "ENSO_SSTA = anom_SST.sel(time=slice(start_time, end_time)).mean(dim='time')\n",
    "\n",
    "```\n",
    "\n",
    "**<span style='color:Red'> Insert a cell below (`+`)**. Define the `start_time` and `end_time` variables. Subset the data to the specified time interval. Let's start with the 1982-83 El Niño. Subset the data to November 1982 through January 1983: `1982-11-01` to `1983-01-31`."
   ]
  },
  {
   "cell_type": "markdown",
   "id": "35f45596",
   "metadata": {
    "deletable": false,
    "editable": false
   },
   "source": [
    "Now generate Pacific-centered maps of mean SSTA and SLP anomalies for the selected ENSO event. Specify a colormap appropriate for anomalies and ensure that the colorbar is centered on zero (no change). Adjust the colorbar levels such that your final maps are well-formatted and visually appealing.\n",
    "\n",
    "Mask all the land masses with another color for the SSTA map only. Display all the data for the SLP anomaly map.\n",
    "\n",
    "Save your SSTA figure using the following code: \n",
    "```\n",
    "fig.savefig('Lab3_ERA5_sst_anom_' + start_time + '_' + end_time + '.png', facecolor = 'white', transparent = False, bbox_inches ='tight')\n",
    "```\n",
    "\n",
    "Save your SLP anom figure using the following code: \n",
    "```\n",
    "fig.savefig('Lab3_ERA5_slp_anom_' + start_time + '_' + end_time + '.png', facecolor = 'white', transparent = False, bbox_inches ='tight')\n",
    "```\n",
    "\n",
    "**[8pts, 4 pts per variable] <span style='color:Red'> Insert a cell(s) below (`+`)** and generate your two anomaly maps. "
   ]
  },
  {
   "cell_type": "markdown",
   "id": "46d56a4d",
   "metadata": {
    "deletable": false,
    "editable": false
   },
   "source": [
    "## Part 7. Synthesis questions\n",
    "\n",
    "Insert a Markdown cell below and type your short-answer responses. Please save your figures, add them to a word document, and upload the file to Canvas as a PDF. \n",
    "\n",
    "1. [1pt] What is a climatology? Describe.\n",
    "2. [2pts] What is a climatology-removed anomaly? Describe.\n",
    "3. [0.5pt] What does a 5-month running mean do to the time series?\n",
    "4. [3pts] For the 1982-83 El Niño, please describe the global SST and SLP anomaly patterns you observe. \n",
    "5. [4pts] How may a negative SLP anomaly impact other atmospheric properties we've learned about in class? What about a positive SLP anomaly? \n",
    "6. [4.5pts, 1.5 each] Re-run the code to generate your anomaly maps for *at least* 3 other El Niño events. You should ONLY change the start and ending time periods. Do not copy and paste any mapping code. How do the patterns compare? Please add your figures to a word document. *Hint: If you are having trouble identifying an event you may consult the [NOAA Oceanic Nino Index for inspiration](https://origin.cpc.ncep.noaa.gov/products/analysis_monitoring/ensostuff/ONI_v5.php).*\n",
    "7. [3pts, 1.5 each] Re-run the code to generate your anomaly maps for *at least* 2 La Niña events. How do the patterns compare between different La Niña events? What about to El Niño? Please add your figures to a word document. \n",
    "8. [2pts] How do the magnitudes of the anomalies compare between warm phase and cool phase events? Which tend to yield larger anomalies in the Nino3.4 region? El Niño or La Niña?\n",
    "9. [5pts] What are some of the global impacts of ENSO? You may need to consult your notes, the assigned readings, or the ENSO blog to answer this question. Please provide at least 4 examples of impacts."
   ]
  },
  {
   "cell_type": "markdown",
   "id": "ef7f94a2",
   "metadata": {
    "deletable": false,
    "editable": false
   },
   "source": [
    "## Congratulations! You completed your final EV333 Python lab! \n",
    "\n",
    "**To submit your lab:**\n",
    "1. Set the selected ENSO event back to the 1982-83 El Niño\n",
    "2. Run the entire Notebook from the beginning and check that it generates all figures and does not have any errors.\n",
    "3. Save your Jupyter Notebook and upload it to Canvas with the following file name: *LastName_FirstName_EV333_Lab0.ipynb*\n",
    "4. Upload the PDF with your figures to Canvas."
   ]
  }
 ],
 "metadata": {
  "celltoolbar": "Tags",
  "kernelspec": {
   "display_name": "Python 3 (ipykernel)",
   "language": "python",
   "name": "python3"
  },
  "language_info": {
   "codemirror_mode": {
    "name": "ipython",
    "version": 3
   },
   "file_extension": ".py",
   "mimetype": "text/x-python",
   "name": "python",
   "nbconvert_exporter": "python",
   "pygments_lexer": "ipython3",
   "version": "3.11.5"
  }
 },
 "nbformat": 4,
 "nbformat_minor": 5
}
